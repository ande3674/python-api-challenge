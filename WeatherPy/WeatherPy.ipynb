{
 "cells": [
  {
   "cell_type": "markdown",
   "metadata": {},
   "source": [
    "# WeatherPy\n",
    "----\n",
    "\n",
    "#### Note\n",
    "* Instructions have been included for each segment. You do not have to follow them exactly, but they are included to help you think through the steps."
   ]
  },
  {
   "cell_type": "code",
   "execution_count": 2,
   "metadata": {
    "scrolled": true
   },
   "outputs": [],
   "source": [
    "# Dependencies and Setup\n",
    "import matplotlib.pyplot as plt\n",
    "import pandas as pd\n",
    "import numpy as np\n",
    "import requests\n",
    "import time\n",
    "from scipy.stats import linregress\n",
    "\n",
    "# Import API key\n",
    "from api_keys import weather_api_key\n",
    "\n",
    "# Incorporated citipy to determine city based on latitude and longitude\n",
    "from citipy import citipy\n",
    "\n",
    "# Output File (CSV)\n",
    "output_data_file = \"output_data/cities.csv\"\n",
    "\n",
    "# Range of latitudes and longitudes\n",
    "lat_range = (-90, 90)\n",
    "lng_range = (-180, 180)"
   ]
  },
  {
   "cell_type": "markdown",
   "metadata": {},
   "source": [
    "## Generate Cities List"
   ]
  },
  {
   "cell_type": "code",
   "execution_count": 7,
   "metadata": {},
   "outputs": [
    {
     "data": {
      "text/plain": [
       "610"
      ]
     },
     "execution_count": 7,
     "metadata": {},
     "output_type": "execute_result"
    }
   ],
   "source": [
    "# List for holding lat_lngs and cities\n",
    "lat_lngs = []\n",
    "cities = []\n",
    "short_cities = ['paris', 'minneapolis', 'new york']\n",
    "\n",
    "# Create a set of random lat and lng combinations\n",
    "lats = np.random.uniform(lat_range[0], lat_range[1], size=1500)\n",
    "lngs = np.random.uniform(lng_range[0], lng_range[1], size=1500)\n",
    "lat_lngs = zip(lats, lngs)\n",
    "\n",
    "# Identify nearest city for each lat, lng combination\n",
    "for lat_lng in lat_lngs:\n",
    "    city = citipy.nearest_city(lat_lng[0], lat_lng[1]).city_name\n",
    "    \n",
    "    # If the city is unique, then add it to a our cities list\n",
    "    if city not in cities:\n",
    "        cities.append(city)\n",
    "\n",
    "# Print the city count to confirm sufficient count\n",
    "len(cities)"
   ]
  },
  {
   "cell_type": "markdown",
   "metadata": {},
   "source": [
    "### Perform API Calls\n",
    "* Perform a weather check on each city using a series of successive API calls.\n",
    "* Include a print log of each city as it'sbeing processed (with the city number and city name).\n"
   ]
  },
  {
   "cell_type": "code",
   "execution_count": 10,
   "metadata": {},
   "outputs": [
    {
     "name": "stdout",
     "output_type": "stream",
     "text": [
      "0: paris\n",
      "Weather description: overcast clouds\n",
      "Temp feels like: 61.23\n",
      "\n",
      "1: minneapolis\n",
      "Weather description: overcast clouds\n",
      "Temp feels like: 65.10\n",
      "\n",
      "2: new york\n",
      "Weather description: heavy intensity rain\n",
      "Temp feels like: 75.90\n",
      "\n"
     ]
    }
   ],
   "source": [
    "    \n",
    "def convert_k_to_f(ktemp):\n",
    "    return (9/5.0) * (ktemp - 273.0) + 32.0\n",
    "\n",
    "\n",
    "for i, city in enumerate(cities):\n",
    "    print(f'{i}: {city}')\n",
    "    ucity = city.replace(\" \", \"%20\")\n",
    "    try: \n",
    "        url = f'http://api.openweathermap.org/data/2.5/weather?q={ucity}&appid={weather_api_key}'\n",
    "        data = requests.get(url).json()\n",
    "        weather_desc = data[\"weather\"][0][\"description\"]\n",
    "        feels_like = convert_k_to_f(float(data[\"main\"][\"feels_like\"]))\n",
    "        print(f'Weather description: {weather_desc}')\n",
    "        print(f'Temp feels like: {feels_like:.2f}')\n",
    "        print()\n",
    "        time.sleep(1)\n",
    "    except:\n",
    "        print(f'No data found for {city}')\n",
    "        print('')\n",
    "\n",
    "        "
   ]
  },
  {
   "cell_type": "markdown",
   "metadata": {},
   "source": [
    "### Convert Raw Data to DataFrame\n",
    "* Export the city data into a .csv.\n",
    "* Display the DataFrame"
   ]
  },
  {
   "cell_type": "code",
   "execution_count": 13,
   "metadata": {},
   "outputs": [
    {
     "name": "stdout",
     "output_type": "stream",
     "text": [
      "'coord'\n",
      "'coord'\n",
      "'coord'\n",
      "'coord'\n",
      "'coord'\n",
      "'coord'\n",
      "'coord'\n",
      "'coord'\n",
      "'coord'\n",
      "'coord'\n",
      "'coord'\n",
      "'coord'\n",
      "'coord'\n",
      "'coord'\n",
      "'coord'\n",
      "'coord'\n",
      "'coord'\n",
      "'coord'\n",
      "'coord'\n",
      "'coord'\n",
      "'coord'\n",
      "'coord'\n",
      "'coord'\n",
      "'coord'\n",
      "'coord'\n",
      "'coord'\n",
      "'coord'\n",
      "'coord'\n",
      "'coord'\n",
      "'coord'\n",
      "'coord'\n",
      "'coord'\n",
      "'coord'\n",
      "'coord'\n",
      "'coord'\n",
      "'coord'\n",
      "'coord'\n",
      "'coord'\n",
      "'coord'\n",
      "'coord'\n",
      "'coord'\n",
      "'coord'\n",
      "'coord'\n",
      "'coord'\n",
      "'coord'\n",
      "'coord'\n",
      "'coord'\n",
      "'coord'\n",
      "'coord'\n",
      "'coord'\n",
      "'coord'\n",
      "'coord'\n",
      "'coord'\n",
      "'coord'\n"
     ]
    },
    {
     "data": {
      "text/html": [
       "<div>\n",
       "<style scoped>\n",
       "    .dataframe tbody tr th:only-of-type {\n",
       "        vertical-align: middle;\n",
       "    }\n",
       "\n",
       "    .dataframe tbody tr th {\n",
       "        vertical-align: top;\n",
       "    }\n",
       "\n",
       "    .dataframe thead th {\n",
       "        text-align: right;\n",
       "    }\n",
       "</style>\n",
       "<table border=\"1\" class=\"dataframe\">\n",
       "  <thead>\n",
       "    <tr style=\"text-align: right;\">\n",
       "      <th></th>\n",
       "      <th>City</th>\n",
       "      <th>Longitude</th>\n",
       "      <th>Latitude</th>\n",
       "      <th>Temperature</th>\n",
       "      <th>Humidity</th>\n",
       "      <th>Cloudiness</th>\n",
       "      <th>Wind Speed</th>\n",
       "    </tr>\n",
       "  </thead>\n",
       "  <tbody>\n",
       "    <tr>\n",
       "      <th>0</th>\n",
       "      <td>kamina</td>\n",
       "      <td>24.99</td>\n",
       "      <td>-8.74</td>\n",
       "      <td>59.990</td>\n",
       "      <td>44</td>\n",
       "      <td>56</td>\n",
       "      <td>1.46</td>\n",
       "    </tr>\n",
       "    <tr>\n",
       "      <th>1</th>\n",
       "      <td>bluff</td>\n",
       "      <td>168.33</td>\n",
       "      <td>-46.60</td>\n",
       "      <td>39.272</td>\n",
       "      <td>83</td>\n",
       "      <td>97</td>\n",
       "      <td>1.34</td>\n",
       "    </tr>\n",
       "    <tr>\n",
       "      <th>2</th>\n",
       "      <td>rikitea</td>\n",
       "      <td>-134.97</td>\n",
       "      <td>-23.12</td>\n",
       "      <td>67.352</td>\n",
       "      <td>59</td>\n",
       "      <td>100</td>\n",
       "      <td>5.76</td>\n",
       "    </tr>\n",
       "    <tr>\n",
       "      <th>3</th>\n",
       "      <td>nikolskoye</td>\n",
       "      <td>30.79</td>\n",
       "      <td>59.70</td>\n",
       "      <td>55.058</td>\n",
       "      <td>76</td>\n",
       "      <td>75</td>\n",
       "      <td>3.00</td>\n",
       "    </tr>\n",
       "    <tr>\n",
       "      <th>4</th>\n",
       "      <td>fort nelson</td>\n",
       "      <td>-122.70</td>\n",
       "      <td>58.81</td>\n",
       "      <td>62.870</td>\n",
       "      <td>67</td>\n",
       "      <td>75</td>\n",
       "      <td>3.10</td>\n",
       "    </tr>\n",
       "    <tr>\n",
       "      <th>5</th>\n",
       "      <td>cape town</td>\n",
       "      <td>18.42</td>\n",
       "      <td>-33.93</td>\n",
       "      <td>52.736</td>\n",
       "      <td>93</td>\n",
       "      <td>0</td>\n",
       "      <td>0.50</td>\n",
       "    </tr>\n",
       "    <tr>\n",
       "      <th>6</th>\n",
       "      <td>busselton</td>\n",
       "      <td>115.33</td>\n",
       "      <td>-33.65</td>\n",
       "      <td>52.268</td>\n",
       "      <td>75</td>\n",
       "      <td>42</td>\n",
       "      <td>4.92</td>\n",
       "    </tr>\n",
       "    <tr>\n",
       "      <th>7</th>\n",
       "      <td>miraflores</td>\n",
       "      <td>-98.81</td>\n",
       "      <td>19.22</td>\n",
       "      <td>71.816</td>\n",
       "      <td>38</td>\n",
       "      <td>75</td>\n",
       "      <td>4.60</td>\n",
       "    </tr>\n",
       "    <tr>\n",
       "      <th>8</th>\n",
       "      <td>victoria</td>\n",
       "      <td>114.16</td>\n",
       "      <td>22.29</td>\n",
       "      <td>88.808</td>\n",
       "      <td>70</td>\n",
       "      <td>62</td>\n",
       "      <td>2.24</td>\n",
       "    </tr>\n",
       "    <tr>\n",
       "      <th>9</th>\n",
       "      <td>qaanaaq</td>\n",
       "      <td>-69.36</td>\n",
       "      <td>77.48</td>\n",
       "      <td>48.218</td>\n",
       "      <td>53</td>\n",
       "      <td>0</td>\n",
       "      <td>0.44</td>\n",
       "    </tr>\n",
       "  </tbody>\n",
       "</table>\n",
       "</div>"
      ],
      "text/plain": [
       "          City  Longitude  Latitude  Temperature Humidity Cloudiness  \\\n",
       "0       kamina      24.99     -8.74       59.990       44         56   \n",
       "1        bluff     168.33    -46.60       39.272       83         97   \n",
       "2      rikitea    -134.97    -23.12       67.352       59        100   \n",
       "3   nikolskoye      30.79     59.70       55.058       76         75   \n",
       "4  fort nelson    -122.70     58.81       62.870       67         75   \n",
       "5    cape town      18.42    -33.93       52.736       93          0   \n",
       "6    busselton     115.33    -33.65       52.268       75         42   \n",
       "7   miraflores     -98.81     19.22       71.816       38         75   \n",
       "8     victoria     114.16     22.29       88.808       70         62   \n",
       "9      qaanaaq     -69.36     77.48       48.218       53          0   \n",
       "\n",
       "   Wind Speed  \n",
       "0        1.46  \n",
       "1        1.34  \n",
       "2        5.76  \n",
       "3        3.00  \n",
       "4        3.10  \n",
       "5        0.50  \n",
       "6        4.92  \n",
       "7        4.60  \n",
       "8        2.24  \n",
       "9        0.44  "
      ]
     },
     "execution_count": 13,
     "metadata": {},
     "output_type": "execute_result"
    }
   ],
   "source": [
    "\n",
    "def build_row(city):\n",
    "    try: \n",
    "        ucity = city.replace(\" \", \"%20\")\n",
    "        url = f'http://api.openweathermap.org/data/2.5/weather?q={ucity}&appid={weather_api_key}'\n",
    "        data = requests.get(url).json()\n",
    "        # Get necessary data for df\n",
    "        lon = data[\"coord\"][\"lon\"]\n",
    "        lat = data[\"coord\"][\"lat\"]\n",
    "        ftemp = convert_k_to_f(float(data[\"main\"][\"temp\"]))\n",
    "        humidity = data[\"main\"][\"humidity\"]\n",
    "        cloudiness = data[\"clouds\"][\"all\"]\n",
    "        wind_speed = data[\"wind\"][\"speed\"]\n",
    "        \n",
    "        return {\"City\" : city,\n",
    "               \"Longitude\": lon,\n",
    "               \"Latitude\" : lat,\n",
    "               \"Temperature\" : ftemp,\n",
    "               \"Humidity\" : humidity,\n",
    "               \"Cloudiness\" : cloudiness,\n",
    "               \"Wind Speed\" : wind_speed}\n",
    "    except Exception as e:\n",
    "        return 0\n",
    "    \n",
    "    \n",
    "city_df = pd.DataFrame(columns=['City', 'Longitude', 'Latitude', 'Temperature', 'Humidity', 'Cloudiness', 'Wind Speed'])\n",
    "\n",
    "for city in cities:\n",
    "    row = build_row(city)\n",
    "    if row != 0:\n",
    "        city_df = city_df.append(row, ignore_index=True)\n",
    "        time.sleep(1)\n",
    "city_df.head(10)"
   ]
  },
  {
   "cell_type": "code",
   "execution_count": 16,
   "metadata": {},
   "outputs": [],
   "source": [
    "# Export the dataframe to a file\n",
    "city_df.to_csv(output_data_file)"
   ]
  },
  {
   "cell_type": "code",
   "execution_count": 17,
   "metadata": {},
   "outputs": [],
   "source": [
    "# sample_df = pd.DataFrame(columns=['City', 'Longitude', 'Latitude', 'Temperature', 'Humidity', 'Cloudiness', 'Wind Speed'])\n",
    "\n",
    "# two_cities = {\"City\" : \"Minneapolis\",\n",
    "#                \"Longitude\": 1,\n",
    "#                \"Latitude\" : 1,\n",
    "#                \"Temperature\" : 75,\n",
    "#                \"Humidity\" : 52,\n",
    "#                \"Cloudiness\" : 20,\n",
    "#                \"Wind Speed\" : 3.6}\n",
    "# #sample_df = pd.DataFrame(sample_dict)\n",
    "# sample_df = sample_df.append({\"City\" : \"Seattle\",\n",
    "#                \"Longitude\": 1,\n",
    "#                \"Latitude\" : 5,\n",
    "#                \"Temperature\" : 77,\n",
    "#                \"Humidity\" : 52,\n",
    "#                \"Cloudiness\" : 20,\n",
    "#                \"Wind Speed\" : 3.7}, ignore_index=True)\n",
    "# sample_df = sample_df.append(two_cities, ignore_index=True)\n",
    "# sample_df"
   ]
  },
  {
   "cell_type": "markdown",
   "metadata": {},
   "source": [
    "## Inspect the data and remove the cities where the humidity > 100%.\n",
    "----\n",
    "Skip this step if there are no cities that have humidity > 100%. "
   ]
  },
  {
   "cell_type": "code",
   "execution_count": 18,
   "metadata": {},
   "outputs": [
    {
     "data": {
      "text/html": [
       "<div>\n",
       "<style scoped>\n",
       "    .dataframe tbody tr th:only-of-type {\n",
       "        vertical-align: middle;\n",
       "    }\n",
       "\n",
       "    .dataframe tbody tr th {\n",
       "        vertical-align: top;\n",
       "    }\n",
       "\n",
       "    .dataframe thead th {\n",
       "        text-align: right;\n",
       "    }\n",
       "</style>\n",
       "<table border=\"1\" class=\"dataframe\">\n",
       "  <thead>\n",
       "    <tr style=\"text-align: right;\">\n",
       "      <th></th>\n",
       "      <th>City</th>\n",
       "      <th>Longitude</th>\n",
       "      <th>Latitude</th>\n",
       "      <th>Temperature</th>\n",
       "      <th>Humidity</th>\n",
       "      <th>Cloudiness</th>\n",
       "      <th>Wind Speed</th>\n",
       "    </tr>\n",
       "  </thead>\n",
       "  <tbody>\n",
       "    <tr>\n",
       "      <th>0</th>\n",
       "      <td>kamina</td>\n",
       "      <td>24.99</td>\n",
       "      <td>-8.74</td>\n",
       "      <td>59.990</td>\n",
       "      <td>44</td>\n",
       "      <td>56</td>\n",
       "      <td>1.46</td>\n",
       "    </tr>\n",
       "    <tr>\n",
       "      <th>1</th>\n",
       "      <td>bluff</td>\n",
       "      <td>168.33</td>\n",
       "      <td>-46.60</td>\n",
       "      <td>39.272</td>\n",
       "      <td>83</td>\n",
       "      <td>97</td>\n",
       "      <td>1.34</td>\n",
       "    </tr>\n",
       "    <tr>\n",
       "      <th>2</th>\n",
       "      <td>rikitea</td>\n",
       "      <td>-134.97</td>\n",
       "      <td>-23.12</td>\n",
       "      <td>67.352</td>\n",
       "      <td>59</td>\n",
       "      <td>100</td>\n",
       "      <td>5.76</td>\n",
       "    </tr>\n",
       "    <tr>\n",
       "      <th>3</th>\n",
       "      <td>nikolskoye</td>\n",
       "      <td>30.79</td>\n",
       "      <td>59.70</td>\n",
       "      <td>55.058</td>\n",
       "      <td>76</td>\n",
       "      <td>75</td>\n",
       "      <td>3.00</td>\n",
       "    </tr>\n",
       "    <tr>\n",
       "      <th>4</th>\n",
       "      <td>fort nelson</td>\n",
       "      <td>-122.70</td>\n",
       "      <td>58.81</td>\n",
       "      <td>62.870</td>\n",
       "      <td>67</td>\n",
       "      <td>75</td>\n",
       "      <td>3.10</td>\n",
       "    </tr>\n",
       "    <tr>\n",
       "      <th>5</th>\n",
       "      <td>cape town</td>\n",
       "      <td>18.42</td>\n",
       "      <td>-33.93</td>\n",
       "      <td>52.736</td>\n",
       "      <td>93</td>\n",
       "      <td>0</td>\n",
       "      <td>0.50</td>\n",
       "    </tr>\n",
       "    <tr>\n",
       "      <th>6</th>\n",
       "      <td>busselton</td>\n",
       "      <td>115.33</td>\n",
       "      <td>-33.65</td>\n",
       "      <td>52.268</td>\n",
       "      <td>75</td>\n",
       "      <td>42</td>\n",
       "      <td>4.92</td>\n",
       "    </tr>\n",
       "    <tr>\n",
       "      <th>7</th>\n",
       "      <td>miraflores</td>\n",
       "      <td>-98.81</td>\n",
       "      <td>19.22</td>\n",
       "      <td>71.816</td>\n",
       "      <td>38</td>\n",
       "      <td>75</td>\n",
       "      <td>4.60</td>\n",
       "    </tr>\n",
       "    <tr>\n",
       "      <th>8</th>\n",
       "      <td>victoria</td>\n",
       "      <td>114.16</td>\n",
       "      <td>22.29</td>\n",
       "      <td>88.808</td>\n",
       "      <td>70</td>\n",
       "      <td>62</td>\n",
       "      <td>2.24</td>\n",
       "    </tr>\n",
       "    <tr>\n",
       "      <th>9</th>\n",
       "      <td>qaanaaq</td>\n",
       "      <td>-69.36</td>\n",
       "      <td>77.48</td>\n",
       "      <td>48.218</td>\n",
       "      <td>53</td>\n",
       "      <td>0</td>\n",
       "      <td>0.44</td>\n",
       "    </tr>\n",
       "  </tbody>\n",
       "</table>\n",
       "</div>"
      ],
      "text/plain": [
       "          City  Longitude  Latitude  Temperature Humidity Cloudiness  \\\n",
       "0       kamina      24.99     -8.74       59.990       44         56   \n",
       "1        bluff     168.33    -46.60       39.272       83         97   \n",
       "2      rikitea    -134.97    -23.12       67.352       59        100   \n",
       "3   nikolskoye      30.79     59.70       55.058       76         75   \n",
       "4  fort nelson    -122.70     58.81       62.870       67         75   \n",
       "5    cape town      18.42    -33.93       52.736       93          0   \n",
       "6    busselton     115.33    -33.65       52.268       75         42   \n",
       "7   miraflores     -98.81     19.22       71.816       38         75   \n",
       "8     victoria     114.16     22.29       88.808       70         62   \n",
       "9      qaanaaq     -69.36     77.48       48.218       53          0   \n",
       "\n",
       "   Wind Speed  \n",
       "0        1.46  \n",
       "1        1.34  \n",
       "2        5.76  \n",
       "3        3.00  \n",
       "4        3.10  \n",
       "5        0.50  \n",
       "6        4.92  \n",
       "7        4.60  \n",
       "8        2.24  \n",
       "9        0.44  "
      ]
     },
     "execution_count": 18,
     "metadata": {},
     "output_type": "execute_result"
    }
   ],
   "source": [
    "city_df.head(10)"
   ]
  },
  {
   "cell_type": "code",
   "execution_count": 22,
   "metadata": {},
   "outputs": [
    {
     "data": {
      "text/plain": [
       "(0, 7)"
      ]
     },
     "execution_count": 22,
     "metadata": {},
     "output_type": "execute_result"
    }
   ],
   "source": [
    "#  Get the indices of cities that have humidity over 100%.\n",
    "humid_df = city_df[city_df[\"Humidity\"] > 100]\n",
    "humid_df.shape"
   ]
  },
  {
   "cell_type": "code",
   "execution_count": null,
   "metadata": {},
   "outputs": [],
   "source": [
    "# Make a new DataFrame equal to the city data to drop all humidity outliers by index.\n",
    "# Passing \"inplace=False\" will make a copy of the city_data DataFrame, which we call \"clean_city_data\".\n"
   ]
  },
  {
   "cell_type": "code",
   "execution_count": null,
   "metadata": {},
   "outputs": [],
   "source": [
    "# Extract relevant fields from the data frame\n",
    "\n",
    "\n",
    "# Export the City_Data into a csv\n"
   ]
  },
  {
   "cell_type": "markdown",
   "metadata": {},
   "source": [
    "## Plotting the Data\n",
    "* Use proper labeling of the plots using plot titles (including date of analysis) and axes labels.\n",
    "* Save the plotted figures as .pngs."
   ]
  },
  {
   "cell_type": "markdown",
   "metadata": {},
   "source": [
    "## Latitude vs. Temperature Plot"
   ]
  },
  {
   "cell_type": "code",
   "execution_count": 24,
   "metadata": {
    "scrolled": true
   },
   "outputs": [
    {
     "data": {
      "image/png": "[encoded data removed]",
      "text/plain": [
       "<Figure size 1440x720 with 1 Axes>"
      ]
     },
     "metadata": {
      "needs_background": "light"
     },
     "output_type": "display_data"
    }
   ],
   "source": [
    "city_df.plot(x=\"Latitude\", y=\"Temperature\", kind=\"scatter\", figsize=(20,10))\n",
    "plt.show()"
   ]
  },
  {
   "cell_type": "markdown",
   "metadata": {},
   "source": [
    "## Latitude vs. Humidity Plot"
   ]
  },
  {
   "cell_type": "code",
   "execution_count": null,
   "metadata": {},
   "outputs": [],
   "source": []
  },
  {
   "cell_type": "markdown",
   "metadata": {},
   "source": [
    "## Latitude vs. Cloudiness Plot"
   ]
  },
  {
   "cell_type": "code",
   "execution_count": null,
   "metadata": {},
   "outputs": [],
   "source": []
  },
  {
   "cell_type": "markdown",
   "metadata": {},
   "source": [
    "## Latitude vs. Wind Speed Plot"
   ]
  },
  {
   "cell_type": "code",
   "execution_count": null,
   "metadata": {},
   "outputs": [],
   "source": []
  },
  {
   "cell_type": "markdown",
   "metadata": {},
   "source": [
    "## Linear Regression"
   ]
  },
  {
   "cell_type": "code",
   "execution_count": null,
   "metadata": {},
   "outputs": [],
   "source": [
    "# OPTIONAL: Create a function to create Linear Regression plots"
   ]
  },
  {
   "cell_type": "code",
   "execution_count": null,
   "metadata": {},
   "outputs": [],
   "source": [
    "# Create Northern and Southern Hemisphere DataFrames"
   ]
  },
  {
   "cell_type": "markdown",
   "metadata": {},
   "source": [
    "####  Northern Hemisphere - Max Temp vs. Latitude Linear Regression"
   ]
  },
  {
   "cell_type": "code",
   "execution_count": null,
   "metadata": {},
   "outputs": [],
   "source": []
  },
  {
   "cell_type": "markdown",
   "metadata": {},
   "source": [
    "####  Southern Hemisphere - Max Temp vs. Latitude Linear Regression"
   ]
  },
  {
   "cell_type": "code",
   "execution_count": null,
   "metadata": {},
   "outputs": [],
   "source": []
  },
  {
   "cell_type": "markdown",
   "metadata": {},
   "source": [
    "####  Northern Hemisphere - Humidity (%) vs. Latitude Linear Regression"
   ]
  },
  {
   "cell_type": "code",
   "execution_count": null,
   "metadata": {},
   "outputs": [],
   "source": []
  },
  {
   "cell_type": "markdown",
   "metadata": {},
   "source": [
    "####  Southern Hemisphere - Humidity (%) vs. Latitude Linear Regression"
   ]
  },
  {
   "cell_type": "code",
   "execution_count": null,
   "metadata": {},
   "outputs": [],
   "source": []
  },
  {
   "cell_type": "markdown",
   "metadata": {},
   "source": [
    "####  Northern Hemisphere - Cloudiness (%) vs. Latitude Linear Regression"
   ]
  },
  {
   "cell_type": "code",
   "execution_count": null,
   "metadata": {},
   "outputs": [],
   "source": []
  },
  {
   "cell_type": "markdown",
   "metadata": {},
   "source": [
    "####  Southern Hemisphere - Cloudiness (%) vs. Latitude Linear Regression"
   ]
  },
  {
   "cell_type": "code",
   "execution_count": null,
   "metadata": {},
   "outputs": [],
   "source": []
  },
  {
   "cell_type": "markdown",
   "metadata": {},
   "source": [
    "####  Northern Hemisphere - Wind Speed (mph) vs. Latitude Linear Regression"
   ]
  },
  {
   "cell_type": "code",
   "execution_count": null,
   "metadata": {},
   "outputs": [],
   "source": []
  },
  {
   "cell_type": "markdown",
   "metadata": {},
   "source": [
    "####  Southern Hemisphere - Wind Speed (mph) vs. Latitude Linear Regression"
   ]
  },
  {
   "cell_type": "code",
   "execution_count": null,
   "metadata": {},
   "outputs": [],
   "source": []
  },
  {
   "cell_type": "code",
   "execution_count": null,
   "metadata": {},
   "outputs": [],
   "source": []
  }
 ],
 "metadata": {
  "anaconda-cloud": {},
  "kernel_info": {
   "name": "python3"
  },
  "kernelspec": {
   "display_name": "Python 3",
   "language": "python",
   "name": "python3"
  },
  "language_info": {
   "codemirror_mode": {
    "name": "ipython",
    "version": 3
   },
   "file_extension": ".py",
   "mimetype": "text/x-python",
   "name": "python",
   "nbconvert_exporter": "python",
   "pygments_lexer": "ipython3",
   "version": "3.6.10"
  },
  "latex_envs": {
   "LaTeX_envs_menu_present": true,
   "autoclose": false,
   "autocomplete": true,
   "bibliofile": "biblio.bib",
   "cite_by": "apalike",
   "current_citInitial": 1,
   "eqLabelWithNumbers": true,
   "eqNumInitial": 1,
   "hotkeys": {
    "equation": "Ctrl-E",
    "itemize": "Ctrl-I"
   },
   "labels_anchors": false,
   "latex_user_defs": false,
   "report_style_numbering": false,
   "user_envs_cfg": false
  },
  "nteract": {
   "version": "0.12.3"
  }
 },
 "nbformat": 4,
 "nbformat_minor": 2
}
